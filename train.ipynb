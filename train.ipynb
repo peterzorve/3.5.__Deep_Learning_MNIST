{
 "cells": [
  {
   "attachments": {},
   "cell_type": "markdown",
   "metadata": {},
   "source": [
    "## Import Libraries"
   ]
  },
  {
   "cell_type": "code",
   "execution_count": 1,
   "metadata": {},
   "outputs": [],
   "source": [
    "from cProfile import label\n",
    "from collections import OrderedDict\n",
    "import numpy as np \n",
    "import torch \n",
    "import torch.nn as nn \n",
    "from torchvision import datasets, transforms\n",
    "from torch import optim \n",
    "import torch.nn.functional as F \n",
    "import matplotlib.pyplot as plt \n",
    "from torch.utils.data import DataLoader"
   ]
  },
  {
   "attachments": {},
   "cell_type": "markdown",
   "metadata": {},
   "source": [
    "## Function to View Image and Prediction"
   ]
  },
  {
   "cell_type": "code",
   "execution_count": 2,
   "metadata": {},
   "outputs": [],
   "source": [
    "def image_classify(img, ps):\n",
    "    ps = ps.data.numpy().squeeze()\n",
    "\n",
    "    fig, (ax1, ax2) = plt.subplots(figsize=(6,9), ncols=2)\n",
    "    ax1.imshow(img.resize_(1, 28, 28).numpy().squeeze())\n",
    "    ax1.axis('off')\n",
    "    \n",
    "    ax2.barh(np.arange(10), ps)\n",
    "    ax2.set_aspect(0.1)\n",
    "    ax2.set_yticks(np.arange(10))\n",
    "    ax2.set_yticklabels(np.arange(10))\n",
    "    ax2.set_title('Class Probability')\n",
    "    ax2.set_xlim(0, 1.1)\n",
    "    plt.show()\n",
    "\n",
    "    return "
   ]
  },
  {
   "attachments": {},
   "cell_type": "markdown",
   "metadata": {},
   "source": [
    "## Examples of Transformation Properties"
   ]
  },
  {
   "cell_type": "code",
   "execution_count": null,
   "metadata": {},
   "outputs": [],
   "source": [
    "\"\"\" Defining the Transformations for Preprocessing \n",
    "url = 'https://www.analyticsvidhya.com/blog/2021/04/10-pytorch-transformations-you-need-to-know/'\n",
    "\n",
    "    1.  ToTensor                transform = transforms.Compose([transforms.ToTensor()])\n",
    "    2.  Normalize               transforms.Normalize([mean_chanel1, mean_channel2, mean_channel3], [std_channel1, std_channel2, std_channel3])\n",
    "    3.  CenterCrop              transforms.Compose([transforms.CenterCrop((height, width))])\n",
    "    4.  RandomHorizontalFlip    transforms.Compose([transforms.RandomHorizontalFlip(p=0.9)])   # p is the probability \n",
    "    5.  RandomRotation          transforms.Compose([transforms.RandomRotation(degrees=180)])\n",
    "    6.  Grayscale               transforms.Compose([transforms.Grayscale(number_output_channels=1)])\n",
    "    7.  GaussianBlur            transforms.Compose([transforms.GaussianBlur(kernel_size=501)]) \n",
    "    8.  RandomApply             transforms.RandomApply([transforms.RandomSizedCrop(200),transforms.RandomHorizontalFlip()],p=0.6)\n",
    "    9.  Compose                 transforms.Compose([transforms.Grayscale(1),transforms.CenterCrop(10), transforms.ToTensor()])      # t composes several transforms together.\n",
    "    10. Functional Transforms\n",
    "\n",
    "\"\"\""
   ]
  },
  {
   "cell_type": "code",
   "execution_count": 3,
   "metadata": {},
   "outputs": [],
   "source": [
    "batch_size=32\n",
    "\n",
    "transform = transforms.Compose([   transforms.ToTensor(), \n",
    "                                   transforms.Normalize((0.5), (0.5))\n",
    "                                ])"
   ]
  },
  {
   "attachments": {},
   "cell_type": "markdown",
   "metadata": {},
   "source": [
    "## Download and Load Data"
   ]
  },
  {
   "cell_type": "code",
   "execution_count": null,
   "metadata": {},
   "outputs": [],
   "source": [
    "train_datasets = datasets.MNIST(root='data', download=True, train=True,  transform=transform)\n",
    "test_datasets  = datasets.MNIST(root='data', download=True, train=False, transform=transform)\n",
    "\n",
    "train_loader = DataLoader(dataset=train_datasets, batch_size=batch_size, shuffle=True)\n",
    "test_loader  = DataLoader(dataset=test_datasets,  batch_size=batch_size, shuffle=True)"
   ]
  },
  {
   "attachments": {},
   "cell_type": "markdown",
   "metadata": {},
   "source": [
    "## Data Iteration"
   ]
  },
  {
   "cell_type": "code",
   "execution_count": 6,
   "metadata": {},
   "outputs": [],
   "source": [
    "data_iter = iter(train_loader)\n",
    "images, labels = data_iter.next()"
   ]
  },
  {
   "attachments": {},
   "cell_type": "markdown",
   "metadata": {},
   "source": [
    "## Model"
   ]
  },
  {
   "cell_type": "code",
   "execution_count": 7,
   "metadata": {},
   "outputs": [],
   "source": [
    "class model_MNIST(nn.Module):\n",
    "    def __init__(self, input, output):\n",
    "        super(model_MNIST, self).__init__()\n",
    "        self.first_layer    = nn.Linear(input, 32)\n",
    "        self.second_layer   = nn.Linear(32, 32)\n",
    "        self.third_layer    = nn.Linear(32, 32)\n",
    "        self.last_layer     = nn.Linear(32, output)\n",
    "\n",
    "        self.relu       = nn.ReLU()\n",
    "        self.softmax    = nn.Softmax(dim=1)\n",
    "\n",
    "    def forward(self, x):\n",
    "        x = self.relu( self.first_layer(x) )\n",
    "        x = self.relu( self.second_layer(x) )\n",
    "        x = self.relu( self.third_layer(x) )\n",
    "        x = self.last_layer(x) \n",
    "        x = self.softmax(x)\n",
    "        return x\n"
   ]
  },
  {
   "attachments": {},
   "cell_type": "markdown",
   "metadata": {},
   "source": [
    "## Instatiate Model, Criterion, and Optimizer"
   ]
  },
  {
   "cell_type": "code",
   "execution_count": 9,
   "metadata": {},
   "outputs": [],
   "source": [
    "num_input, num_output, epochs = 784, 10, 10\n",
    "model = model_MNIST(num_input, num_output)\n",
    "criterion = nn.CrossEntropyLoss()\n",
    "optimizer = optim.Adam(model.parameters(), lr=0.001)"
   ]
  },
  {
   "attachments": {},
   "cell_type": "markdown",
   "metadata": {},
   "source": [
    "## Train the Model"
   ]
  },
  {
   "cell_type": "code",
   "execution_count": 10,
   "metadata": {},
   "outputs": [
    {
     "name": "stdout",
     "output_type": "stream",
     "text": [
      "epoch   1/ 10     Train Loss : 1.72387    Test Loss : 1.64149\n",
      "epoch   2/ 10     Train Loss : 1.62515    Test Loss : 1.58169\n",
      "epoch   3/ 10     Train Loss : 1.55583    Test Loss : 1.54134\n",
      "epoch   4/ 10     Train Loss : 1.54455    Test Loss : 1.53411\n",
      "epoch   5/ 10     Train Loss : 1.53930    Test Loss : 1.53144\n",
      "epoch   6/ 10     Train Loss : 1.53360    Test Loss : 1.53072\n",
      "epoch   7/ 10     Train Loss : 1.53027    Test Loss : 1.52169\n",
      "epoch   8/ 10     Train Loss : 1.52658    Test Loss : 1.52652\n",
      "epoch   9/ 10     Train Loss : 1.52457    Test Loss : 1.51957\n",
      "epoch  10/ 10     Train Loss : 1.52271    Test Loss : 1.52619\n"
     ]
    }
   ],
   "source": [
    "train_losses_list, test_losses_list = [], []\n",
    "\n",
    "for epoch in range(epochs):\n",
    "    train_running_loss, test_running = 0, 0\n",
    "    for train_idx, (features, targets) in enumerate(iter(train_loader)):\n",
    "        features = features.resize_(features.size()[0], 784)\n",
    "        optimizer.zero_grad()\n",
    "        predictions = model.forward(features)\n",
    "        train_loss = criterion(predictions, targets)\n",
    "        train_loss.backward()\n",
    "        optimizer.step()\n",
    "        train_running_loss += train_loss.item()\n",
    "    \n",
    "    average_train_running_loss = train_running_loss/len(train_loader)\n",
    "    train_losses_list.append(average_train_running_loss)\n",
    "\n",
    "    model.eval()\n",
    "    with torch.no_grad():\n",
    "        for test_idx, (test_features, test_targets) in enumerate(iter(test_loader)):\n",
    "            test_features = test_features.view(-1, 784)\n",
    "            test_prediction = model.forward(test_features)\n",
    "            test_loss = criterion(test_prediction, test_targets)\n",
    "            # test_loss.backward()\n",
    "            # optimizer.step()\n",
    "            test_running += test_loss.item()\n",
    "        \n",
    "        average_tesr_running_loss = test_running/len(test_loader)\n",
    "        test_losses_list.append(average_tesr_running_loss)\n",
    "\n",
    "    model.train()\n",
    "\n",
    "    print(f'epoch {epoch+1:3}/{epochs:3}     Train Loss : {average_train_running_loss:.5f}    Test Loss : {average_tesr_running_loss:.5f}')"
   ]
  },
  {
   "attachments": {},
   "cell_type": "markdown",
   "metadata": {},
   "source": [
    "## Plot the Results"
   ]
  },
  {
   "cell_type": "code",
   "execution_count": 11,
   "metadata": {},
   "outputs": [
    {
     "data": {
      "image/png": "[encoded data removed]",
      "text/plain": [
       "<Figure size 640x480 with 1 Axes>"
      ]
     },
     "metadata": {},
     "output_type": "display_data"
    }
   ],
   "source": [
    "plt.plot(train_losses_list, label='Train Loss')\n",
    "plt.plot(test_losses_list,  label='Test Loss')\n",
    "plt.legend()\n",
    "plt.show()"
   ]
  }
 ],
 "metadata": {
  "kernelspec": {
   "display_name": "deeplearning",
   "language": "python",
   "name": "python3"
  },
  "language_info": {
   "codemirror_mode": {
    "name": "ipython",
    "version": 3
   },
   "file_extension": ".py",
   "mimetype": "text/x-python",
   "name": "python",
   "nbconvert_exporter": "python",
   "pygments_lexer": "ipython3",
   "version": "3.8.13"
  },
  "orig_nbformat": 4
 },
 "nbformat": 4,
 "nbformat_minor": 2
}
